{
 "cells": [
  {
   "cell_type": "code",
   "execution_count": 1,
   "id": "cf675944-82f4-44d4-8ef4-eab487731f44",
   "metadata": {},
   "outputs": [
    {
     "name": "stdout",
     "output_type": "stream",
     "text": [
      "Requirement already satisfied: mysql-connector-python in c:\\users\\user\\anaconda3\\lib\\site-packages (9.4.0)\n",
      "Note: you may need to restart the kernel to use updated packages.\n"
     ]
    }
   ],
   "source": [
    "pip install mysql-connector-python\n"
   ]
  },
  {
   "cell_type": "code",
   "execution_count": null,
   "id": "690a2116-e9b7-4224-bf57-0d4f9ddad362",
   "metadata": {},
   "outputs": [
    {
     "name": "stdout",
     "output_type": "stream",
     "text": [
      "Database and user setup completed!\n"
     ]
    }
   ],
   "source": [
    "import mysql.connector\n",
    "from mysql.connector import errorcode\n",
    "\n",
    "# Admin credentials (root or a user with privileges)\n",
    "admin_user = \"root\"\n",
    "admin_pass = \"mayu\"  # replace with your root password\n",
    "\n",
    "# New chatbot user details\n",
    "chatbot_user = \"chatbot_user\"\n",
    "chatbot_pass = \"mypassword\"\n",
    "chatbot_db = \"chatbot_db\"\n",
    "\n",
    "try:\n",
    "    # Connect as admin\n",
    "    admin_conn = mysql.connector.connect(\n",
    "        host=\"localhost\",\n",
    "        user=admin_user,\n",
    "        password=admin_pass\n",
    "    )\n",
    "    admin_cursor = admin_conn.cursor()\n",
    "\n",
    "    # 1️⃣ Create chatbot user\n",
    "    admin_cursor.execute(f\"CREATE USER IF NOT EXISTS '{chatbot_user}'@'localhost' IDENTIFIED BY '{chatbot_pass}'\")\n",
    "\n",
    "    # 2️⃣ Create database\n",
    "    admin_cursor.execute(f\"CREATE DATABASE IF NOT EXISTS {chatbot_db}\")\n",
    "\n",
    "    # 3️⃣ Grant privileges\n",
    "    admin_cursor.execute(f\"GRANT ALL PRIVILEGES ON {chatbot_db}.* TO '{chatbot_user}'@'localhost'\")\n",
    "    admin_cursor.execute(\"FLUSH PRIVILEGES\")\n",
    "    admin_conn.commit()\n",
    "\n",
    "    print(\"Database and user setup completed!\")\n",
    "\n",
    "    # 4️⃣ Connect as chatbot_user and create reminders table\n",
    "    chatbot_conn = mysql.connector.connect(\n",
    "        host=\"localhost\",\n",
    "        user=chatbot_user,\n",
    "        password=chatbot_pass,\n",
    "        database=chatbot_db\n",
    "    )\n",
    "    chatbot_cursor = chatbot_conn.cursor()\n",
    "\n",
    "    chatbot_cursor.execute(\"\"\"\n",
    "        CREATE TABLE IF NOT EXISTS reminders (\n",
    "            id INT AUTO_INCREMENT PRIMARY KEY,\n",
    "            text VARCHAR(255),\n",
    "            created_at DATETIME\n",
    "        )\n",
    "    \"\"\")\n",
    "    chatbot_conn.commit()\n",
    "    chatbot_cursor.close()\n",
    "    chatbot_conn.close()\n",
    "\n",
    "    admin_cursor.close()\n",
    "    admin_conn.close()\n",
    "\n",
    "except mysql.connector.Error as err:\n",
    "    if err.errno == errorcode.ER_ACCESS_DENIED_ERROR:\n",
    "        print(\"❌ Something is wrong with your admin username or password\")\n",
    "    elif err.errno == errorcode.ER_BAD_DB_ERROR:\n",
    "        print(\"❌ Database does not exist\")\n",
    "    else:\n",
    "        print(err)\n",
    "\n",
    "   \n"
   ]
  },
  {
   "cell_type": "code",
   "execution_count": 5,
   "id": "eaec7408-1061-4783-b1c8-6b56e6b726b6",
   "metadata": {},
   "outputs": [
    {
     "name": "stdout",
     "output_type": "stream",
     "text": [
      "💬 Welcome to PyBot! Type 'bye' to exit.\n",
      "\n"
     ]
    },
    {
     "name": "stdout",
     "output_type": "stream",
     "text": [
      "You:  hello\n"
     ]
    },
    {
     "name": "stdout",
     "output_type": "stream",
     "text": [
      "PyBot: Hello!\n",
      "\n"
     ]
    },
    {
     "name": "stdout",
     "output_type": "stream",
     "text": [
      "You:  good morning\n"
     ]
    },
    {
     "name": "stdout",
     "output_type": "stream",
     "text": [
      "PyBot: Morning! How are you today?\n",
      "\n"
     ]
    },
    {
     "name": "stdout",
     "output_type": "stream",
     "text": [
      "You:  iam good how are you\n"
     ]
    },
    {
     "name": "stdout",
     "output_type": "stream",
     "text": [
      "PyBot: I'm just a bot, but I'm doing great!\n",
      "\n"
     ]
    },
    {
     "name": "stdout",
     "output_type": "stream",
     "text": [
      "You:  joke\n"
     ]
    },
    {
     "name": "stdout",
     "output_type": "stream",
     "text": [
      "PyBot: Where does batman go to the bathroom? ... The batroom.\n",
      "\n"
     ]
    },
    {
     "name": "stdout",
     "output_type": "stream",
     "text": [
      "You:  weather USA\n"
     ]
    },
    {
     "name": "stdout",
     "output_type": "stream",
     "text": [
      "PyBot: usa: ☀️   +21°C\n",
      "\n",
      "\n"
     ]
    },
    {
     "name": "stdout",
     "output_type": "stream",
     "text": [
      "You:  reminder: buy groceries\n"
     ]
    },
    {
     "name": "stdout",
     "output_type": "stream",
     "text": [
      "PyBot: ✅ Reminder added: buy groceries\n",
      "\n"
     ]
    },
    {
     "name": "stdout",
     "output_type": "stream",
     "text": [
      "You:  show reminders\n"
     ]
    },
    {
     "name": "stdout",
     "output_type": "stream",
     "text": [
      "PyBot: 1. buy groceries (2025-09-16 12:57:08)\n",
      "\n"
     ]
    },
    {
     "name": "stdout",
     "output_type": "stream",
     "text": [
      "You:  bye\n"
     ]
    },
    {
     "name": "stdout",
     "output_type": "stream",
     "text": [
      "PyBot: See you later!\n",
      "\n"
     ]
    }
   ],
   "source": [
    "import mysql.connector\n",
    "import random\n",
    "import datetime\n",
    "import re\n",
    "import requests\n",
    "\n",
    "class Chatbot:\n",
    "    def __init__(self, name=\"PyBot\"):\n",
    "        self.name = name\n",
    "\n",
    "        # --------------------------\n",
    "        # Connect as chatbot_user\n",
    "        # --------------------------\n",
    "        self.conn = mysql.connector.connect(\n",
    "            host=\"localhost\",\n",
    "            user=\"chatbot_user\",    # MySQL username from setup\n",
    "            password=\"mypassword\",  # MySQL password from setup\n",
    "            database=\"chatbot_db\"\n",
    "        )\n",
    "        self.cursor = self.conn.cursor()\n",
    "\n",
    "        # Keyword responses\n",
    "        self.responses = {\n",
    "            \"hello\": [\"Hi there!\", \"Hello!\", \"Hey! How can I help you?\"],\n",
    "            \"good morning\": [\"Good morning! Have a great day!\", \"Morning! How are you today?\"],\n",
    "            \"good afternoon\": [\"Good afternoon! Hope you're doing well!\"],\n",
    "            \"good evening\": [\"Good evening! How was your day?\"],\n",
    "            \"bye\": [\"Goodbye! Have a nice day.\", \"See you later!\"],\n",
    "            \"how are you\": [\"I'm just a bot, but I'm doing great!\", \"Doing well, thanks!\"],\n",
    "            \"joke\": [\"Want a joke? Type 'joke'!\"]\n",
    "        }\n",
    "\n",
    "    # ------------------------------\n",
    "    # Reminders\n",
    "    # ------------------------------\n",
    "    def add_reminder(self, text):\n",
    "        created_time = datetime.datetime.now().strftime(\"%Y-%m-%d %H:%M:%S\")\n",
    "        self.cursor.execute(\n",
    "            \"INSERT INTO reminders (text, created_at) VALUES (%s, %s)\",\n",
    "            (text, created_time)\n",
    "        )\n",
    "        self.conn.commit()\n",
    "        return f\"✅ Reminder added: {text}\"\n",
    "\n",
    "    def show_reminders(self):\n",
    "        self.cursor.execute(\"SELECT id, text, created_at FROM reminders\")\n",
    "        rows = self.cursor.fetchall()\n",
    "        if not rows:\n",
    "            return \"No reminders set.\"\n",
    "        return \"\\n\".join([f\"{row[0]}. {row[1]} ({row[2]})\" for row in rows])\n",
    "\n",
    "    def delete_reminder(self, reminder_id):\n",
    "        self.cursor.execute(\"DELETE FROM reminders WHERE id = %s\", (reminder_id,))\n",
    "        self.conn.commit()\n",
    "        if self.cursor.rowcount:\n",
    "            return f\"✅ Deleted reminder ID: {reminder_id}\"\n",
    "        return \"❌ Invalid reminder ID.\"\n",
    "\n",
    "    # ------------------------------\n",
    "    # Jokes\n",
    "    # ------------------------------\n",
    "    def get_joke(self):\n",
    "        try:\n",
    "            response = requests.get(\"https://official-joke-api.appspot.com/random_joke\", timeout=5)\n",
    "            data = response.json()\n",
    "            return f\"{data['setup']} ... {data['punchline']}\"\n",
    "        except:\n",
    "            return \"Sorry, I couldn't fetch a joke right now.\"\n",
    "\n",
    "    # ------------------------------\n",
    "    # Weather\n",
    "    # ------------------------------\n",
    "    def get_weather(self, city=\"London\"):\n",
    "        try:\n",
    "            response = requests.get(f\"https://wttr.in/{city}?format=3\", timeout=5)\n",
    "            return response.text\n",
    "        except:\n",
    "            return \"Sorry, I couldn't fetch the weather right now.\"\n",
    "\n",
    "    # ------------------------------\n",
    "    # Respond to user input\n",
    "    # ------------------------------\n",
    "    def respond(self, user_input):\n",
    "        user_input_lower = user_input.lower().strip()\n",
    "\n",
    "        # 1️⃣ Reminder commands\n",
    "        if user_input_lower.startswith(\"reminder:\"):\n",
    "            return self.add_reminder(user_input.split(\":\",1)[1].strip())\n",
    "        elif user_input_lower == \"show reminders\":\n",
    "            return self.show_reminders()\n",
    "        elif user_input_lower.startswith(\"delete reminder\"):\n",
    "            parts = user_input_lower.split()\n",
    "            if len(parts) == 3 and parts[2].isdigit():\n",
    "                return self.delete_reminder(int(parts[2]))\n",
    "            else:\n",
    "                return \"Specify a valid reminder ID. Example: delete reminder 1\"\n",
    "\n",
    "        # 2️⃣ Weather command\n",
    "        if user_input_lower.startswith(\"weather\"):\n",
    "            parts = user_input_lower.split()\n",
    "            city = parts[1] if len(parts) > 1 else \"London\"\n",
    "            return self.get_weather(city)\n",
    "\n",
    "        # 3️⃣ Keyword responses\n",
    "        for keyword in self.responses:\n",
    "            if re.search(rf\"\\b{keyword}\\b\", user_input_lower):\n",
    "                reply = random.choice(self.responses[keyword])\n",
    "                if keyword == \"joke\":\n",
    "                    reply = self.get_joke()\n",
    "                return reply\n",
    "\n",
    "        # 4️⃣ Math evaluation\n",
    "        if re.match(r\"^[0-9+\\-*/().\\s]+$\", user_input):\n",
    "            try:\n",
    "                return str(eval(user_input))\n",
    "            except:\n",
    "                return \"I couldn't calculate that.\"\n",
    "\n",
    "        # 5️⃣ Default fallback\n",
    "        return (\"Sorry, I didn’t understand that. You can say 'hello', 'good morning', \"\n",
    "                \"'good evening', 'joke', 'reminder: <text>', 'show reminders', \"\n",
    "                \"'delete reminder <id>', 'weather <city>', or type a math expression.\")\n",
    "\n",
    "    # ------------------------------\n",
    "    # Close MySQL connection\n",
    "    # ------------------------------\n",
    "    def close(self):\n",
    "        self.cursor.close()\n",
    "        self.conn.close()\n",
    "\n",
    "\n",
    "# ------------------------------\n",
    "# Main Chat Loop\n",
    "# ------------------------------\n",
    "def main():\n",
    "    bot = Chatbot()\n",
    "    print(f\"💬 Welcome to {bot.name}! Type 'bye' to exit.\\n\")\n",
    "\n",
    "    while True:\n",
    "        user_input = input(\"You: \").strip()\n",
    "        if not user_input:\n",
    "            continue\n",
    "\n",
    "        reply = bot.respond(user_input)\n",
    "        print(f\"{bot.name}: {reply}\\n\")\n",
    "\n",
    "        if \"bye\" in user_input.lower():\n",
    "            break\n",
    "\n",
    "    bot.close()\n",
    "\n",
    "if __name__ == \"__main__\":\n",
    "    main()\n",
    "\n"
   ]
  },
  {
   "cell_type": "raw",
   "id": "18a75775-4aba-4698-a9b9-8e32bdad58ab",
   "metadata": {},
   "source": []
  },
  {
   "cell_type": "code",
   "execution_count": null,
   "id": "dc074f02-1a03-4666-9f07-7a3f93eff42b",
   "metadata": {},
   "outputs": [],
   "source": []
  }
 ],
 "metadata": {
  "kernelspec": {
   "display_name": "Python 3 (ipykernel)",
   "language": "python",
   "name": "python3"
  },
  "language_info": {
   "codemirror_mode": {
    "name": "ipython",
    "version": 3
   },
   "file_extension": ".py",
   "mimetype": "text/x-python",
   "name": "python",
   "nbconvert_exporter": "python",
   "pygments_lexer": "ipython3",
   "version": "3.13.5"
  }
 },
 "nbformat": 4,
 "nbformat_minor": 5
}
